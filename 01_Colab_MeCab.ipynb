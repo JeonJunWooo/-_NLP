{
  "nbformat": 4,
  "nbformat_minor": 0,
  "metadata": {
    "colab": {
      "provenance": [],
      "collapsed_sections": [],
      "include_colab_link": true
    },
    "kernelspec": {
      "name": "python3",
      "display_name": "Python 3"
    },
    "gpuClass": "standard"
  },
  "cells": [
    {
      "cell_type": "markdown",
      "metadata": {
        "id": "view-in-github",
        "colab_type": "text"
      },
      "source": [
        "<a href=\"https://colab.research.google.com/github/JeonJunWooo/NLP/blob/main/01_Colab_MeCab.ipynb\" target=\"_parent\"><img src=\"https://colab.research.google.com/assets/colab-badge.svg\" alt=\"Open In Colab\"/></a>"
      ]
    },
    {
      "cell_type": "markdown",
      "metadata": {
        "id": "wdRQ46ryHGFl"
      },
      "source": [
        "# Colab에서 MeCab 활용하기\n",
        "\n",
        "\n",
        "##Colab 동작 OS 확인\n"
      ]
    },
    {
      "cell_type": "code",
      "metadata": {
        "id": "yzfT5fdTaWCh",
        "outputId": "fcb03e8c-4194-42d0-f18c-855a80359c9c",
        "colab": {
          "base_uri": "https://localhost:8080/"
        }
      },
      "source": [
        "# OS 확인\n",
        "!cat /etc/issue.net"
      ],
      "execution_count": 3,
      "outputs": [
        {
          "output_type": "stream",
          "name": "stdout",
          "text": [
            "Ubuntu 18.04.6 LTS\n"
          ]
        }
      ]
    },
    {
      "cell_type": "code",
      "source": [
        "# notepad 사용"
      ],
      "metadata": {
        "id": "p8TekSlIzFMU"
      },
      "execution_count": null,
      "outputs": []
    },
    {
      "cell_type": "markdown",
      "metadata": {
        "id": "DOJaeb1vHS_G"
      },
      "source": [
        "## Google Drive 연결하기"
      ]
    },
    {
      "cell_type": "code",
      "metadata": {
        "id": "wsCVvukHbu2g",
        "outputId": "0efc9c86-99b6-4dd1-b2b9-30e2f03dee94",
        "colab": {
          "base_uri": "https://localhost:8080/"
        }
      },
      "source": [
        "from google.colab import drive\n",
        "drive.mount('/content/gdrive')"
      ],
      "execution_count": 7,
      "outputs": [
        {
          "output_type": "stream",
          "name": "stdout",
          "text": [
            "Drive already mounted at /content/gdrive; to attempt to forcibly remount, call drive.mount(\"/content/gdrive\", force_remount=True).\n"
          ]
        }
      ]
    },
    {
      "cell_type": "code",
      "metadata": {
        "id": "tWXzc15ib8_d",
        "outputId": "725fc107-4bea-41ce-a2d1-b6c2db515221",
        "colab": {
          "base_uri": "https://localhost:8080/"
        }
      },
      "source": [
        "!pwd\n",
        "!ls"
      ],
      "execution_count": 8,
      "outputs": [
        {
          "output_type": "stream",
          "name": "stdout",
          "text": [
            "/content\n",
            "gdrive\tsample_data\n"
          ]
        }
      ]
    },
    {
      "cell_type": "code",
      "metadata": {
        "id": "gvqb8B8OSufC",
        "colab": {
          "base_uri": "https://localhost:8080/"
        },
        "outputId": "13cce1d0-ffaa-4cd8-9c8e-dd38e762da8d"
      },
      "source": [
        "!ls\n"
      ],
      "execution_count": 9,
      "outputs": [
        {
          "output_type": "stream",
          "name": "stdout",
          "text": [
            "gdrive\tsample_data\n"
          ]
        }
      ]
    },
    {
      "cell_type": "markdown",
      "metadata": {
        "id": "CZg-GhK9HeMF"
      },
      "source": [
        "##MeCab 설치하기"
      ]
    },
    {
      "cell_type": "code",
      "metadata": {
        "id": "PcuxCSTMRsMJ",
        "outputId": "077fbeef-c88e-49bc-c02b-4633bf903907",
        "colab": {
          "base_uri": "https://localhost:8080/"
        }
      },
      "source": [
        "!git clone https://github.com/SOMJANG/Mecab-ko-for-Google-Colab.git"
      ],
      "execution_count": 11,
      "outputs": [
        {
          "output_type": "stream",
          "name": "stdout",
          "text": [
            "Cloning into 'Mecab-ko-for-Google-Colab'...\n",
            "remote: Enumerating objects: 115, done.\u001b[K\n",
            "remote: Counting objects: 100% (24/24), done.\u001b[K\n",
            "remote: Compressing objects: 100% (20/20), done.\u001b[K\n",
            "remote: Total 115 (delta 11), reused 10 (delta 3), pack-reused 91\u001b[K\n",
            "Receiving objects: 100% (115/115), 1.27 MiB | 2.85 MiB/s, done.\n",
            "Resolving deltas: 100% (50/50), done.\n"
          ]
        }
      ]
    },
    {
      "cell_type": "code",
      "metadata": {
        "id": "6GcJQlESDWwI",
        "outputId": "2b6114e7-8d61-439c-8bf4-36f7c4dffa81",
        "colab": {
          "base_uri": "https://localhost:8080/"
        }
      },
      "source": [
        "!pwd\n",
        "%cd Mecab-ko-for-Google-Colab"
      ],
      "execution_count": 12,
      "outputs": [
        {
          "output_type": "stream",
          "name": "stdout",
          "text": [
            "/content\n",
            "/content/Mecab-ko-for-Google-Colab\n"
          ]
        }
      ]
    },
    {
      "cell_type": "code",
      "metadata": {
        "id": "COHJdUzEDaxc"
      },
      "source": [
        "!bash install_mecab-ko_on_colab_light_220429.sh "
      ],
      "execution_count": null,
      "outputs": []
    },
    {
      "cell_type": "code",
      "metadata": {
        "id": "LaDGODNdFHQD"
      },
      "source": [
        "# 실행 테스트\n",
        "import MeCab"
      ],
      "execution_count": 14,
      "outputs": []
    },
    {
      "cell_type": "code",
      "metadata": {
        "id": "8boPP7bpFLMM"
      },
      "source": [
        "tagger = MeCab.Tagger()"
      ],
      "execution_count": 15,
      "outputs": []
    },
    {
      "cell_type": "code",
      "metadata": {
        "id": "M3cqBHdfFNbY",
        "outputId": "83e45e31-06ab-4f53-f182-7037f61503cb",
        "colab": {
          "base_uri": "https://localhost:8080/"
        }
      },
      "source": [
        "sentence = '이제 Colab에서 Mecab-ko-dic 사용이 가능합니다.'\n",
        "print (tagger.parse(sentence))"
      ],
      "execution_count": 16,
      "outputs": [
        {
          "output_type": "stream",
          "name": "stdout",
          "text": [
            "이제\tMAG,성분부사|시간부사,F,이제,*,*,*,*\n",
            "Colab\tSL,*,*,*,*,*,*,*\n",
            "에서\tJKB,*,F,에서,*,*,*,*\n",
            "Mecab\tSL,*,*,*,*,*,*,*\n",
            "-\tSY,*,*,*,*,*,*,*\n",
            "ko\tSL,*,*,*,*,*,*,*\n",
            "-\tSY,*,*,*,*,*,*,*\n",
            "dic\tSL,*,*,*,*,*,*,*\n",
            "사용\tNNG,행위,T,사용,*,*,*,*\n",
            "이\tJKS,*,F,이,*,*,*,*\n",
            "가능\tNNG,정적사태,T,가능,*,*,*,*\n",
            "합니다\tXSA+EF,*,F,합니다,Inflect,XSA,EF,하/XSA/*+ᄇ니다/EF/*\n",
            ".\tSF,*,*,*,*,*,*,*\n",
            "EOS\n",
            "\n"
          ]
        }
      ]
    },
    {
      "cell_type": "code",
      "source": [
        "sentence = '코로나 감염 뒤 4주 이상 후유증이 이어지는 현상을 롱코비드라고 부른다.'\n",
        "print (tagger.parse(sentence))\n"
      ],
      "metadata": {
        "colab": {
          "base_uri": "https://localhost:8080/"
        },
        "id": "N6a6buv_4kI5",
        "outputId": "5d715615-7d7d-44f3-9116-3d51b5c2d2a4"
      },
      "execution_count": 17,
      "outputs": [
        {
          "output_type": "stream",
          "name": "stdout",
          "text": [
            "코로나\tNNP,인명,F,코로나,*,*,*,*\n",
            "감염\tNNG,상태변화,T,감염,*,*,*,*\n",
            "뒤\tNNG,*,F,뒤,*,*,*,*\n",
            "4\tSN,*,*,*,*,*,*,*\n",
            "주\tNNBC,*,F,주,*,*,*,*\n",
            "이상\tNNG,*,T,이상,*,*,*,*\n",
            "후유증\tNNG,정적사태,T,후유증,Compound,*,*,후유/NNG/*+증/NNG/*\n",
            "이\tJKS,*,F,이,*,*,*,*\n",
            "이어지\tVV,*,F,이어지,*,*,*,*\n",
            "는\tETM,*,T,는,*,*,*,*\n",
            "현상\tNNG,*,T,현상,*,*,*,*\n",
            "을\tJKO,*,T,을,*,*,*,*\n",
            "롱\tNNG,*,T,롱,*,*,*,*\n",
            "코비\tNNG,*,F,코비,Compound,*,*,코/NNG/*+비/NNG/*\n",
            "드\tVV,*,F,드,Inflect,VV,VV,들/VV/*\n",
            "라고\tEC,*,F,라고,*,*,*,*\n",
            "부른다\tVV+EF,*,F,부른다,Inflect,VV,EF,부르/VV/*+ᆫ다/EF/*\n",
            ".\tSF,*,*,*,*,*,*,*\n",
            "EOS\n",
            "\n"
          ]
        }
      ]
    },
    {
      "cell_type": "code",
      "source": [
        "sentence = '예일공중보건대학원 로버트슨 교수는 이미 코로나19가 팬데믹에서 엔데믹으로 전환 중이라고 말했다.'\n",
        "print (tagger.parse(sentence))"
      ],
      "metadata": {
        "colab": {
          "base_uri": "https://localhost:8080/"
        },
        "id": "2ijOCn1z5S9n",
        "outputId": "ffe45113-202a-4dd7-9586-41b56081700d"
      },
      "execution_count": 18,
      "outputs": [
        {
          "output_type": "stream",
          "name": "stdout",
          "text": [
            "예\tIC,*,F,예,*,*,*,*\n",
            "일\tNR,*,T,일,*,*,*,*\n",
            "공중\tNNG,*,T,공중,*,*,*,*\n",
            "보건\tNNG,행위,T,보건,*,*,*,*\n",
            "대학원\tNNG,*,T,대학원,Compound,*,*,대학/NNG/*+원/NNG/*\n",
            "로버트슨\tNNP,인명,T,로버트슨,*,*,*,*\n",
            "교수\tNNG,*,F,교수,*,*,*,*\n",
            "는\tJX,*,T,는,*,*,*,*\n",
            "이미\tMAG,성분부사|시간부사,F,이미,*,*,*,*\n",
            "코로나\tNNP,인명,F,코로나,*,*,*,*\n",
            "19\tSN,*,*,*,*,*,*,*\n",
            "가\tJKS,*,F,가,*,*,*,*\n",
            "팬데\tNNBC+VCP+EC,*,F,팬데,Inflect,NNBC,EC,패/NNBC/*+이/VCP/*+ㄴ데/EC/*\n",
            "믹\tNNG,*,T,믹,*,*,*,*\n",
            "에서\tJKB,*,F,에서,*,*,*,*\n",
            "엔데\tNNP,인명,F,엔데,*,*,*,*\n",
            "믹\tNNG,*,T,믹,*,*,*,*\n",
            "으로\tJKB,*,F,으로,*,*,*,*\n",
            "전환\tNNG,행위,T,전환,*,*,*,*\n",
            "중\tNNB,*,T,중,*,*,*,*\n",
            "이\tVCP,*,F,이,*,*,*,*\n",
            "라고\tEC,*,F,라고,*,*,*,*\n",
            "말\tNNG,*,T,말,*,*,*,*\n",
            "했\tXSV+EP,*,T,했,Inflect,XSV,EP,하/XSV/*+았/EP/*\n",
            "다\tEF,*,F,다,*,*,*,*\n",
            ".\tSF,*,*,*,*,*,*,*\n",
            "EOS\n",
            "\n"
          ]
        }
      ]
    },
    {
      "cell_type": "code",
      "metadata": {
        "id": "2PBjIPSqFO4p"
      },
      "source": [
        "# 설치 후 Tagger 에러가 발생한 경우\n",
        "# https://github.com/konlpy/konlpy/issues/144\n",
        "#!git clone https://bitbucket.org/eunjeon/mecab-python-0.996.git\n",
        "#import os\n",
        "#os.chdir('mecab-python-0.996')\n",
        "#!python setup.py build\n",
        "#!python setup.py install"
      ],
      "execution_count": null,
      "outputs": []
    },
    {
      "cell_type": "code",
      "source": [
        "!pwd"
      ],
      "metadata": {
        "colab": {
          "base_uri": "https://localhost:8080/"
        },
        "id": "jtBG2wMekbJO",
        "outputId": "4b0f3288-86f3-46c5-b336-94cc800e2ae6"
      },
      "execution_count": 19,
      "outputs": [
        {
          "output_type": "stream",
          "name": "stdout",
          "text": [
            "/content/Mecab-ko-for-Google-Colab\n"
          ]
        }
      ]
    },
    {
      "cell_type": "markdown",
      "metadata": {
        "id": "V2WYv-g-sCcI"
      },
      "source": [
        "### MeCab 사용자 사전 추가하기"
      ]
    },
    {
      "cell_type": "code",
      "metadata": {
        "id": "eAwhQbAFscce",
        "colab": {
          "base_uri": "https://localhost:8080/"
        },
        "outputId": "f5e90b90-efb4-4905-ae58-70c9cf7daa16"
      },
      "source": [
        "# Mecab의 사전 디렉토리\n",
        "%cd /content/mecab-ko-dic-2.1.1-20180720/\n"
      ],
      "execution_count": 20,
      "outputs": [
        {
          "output_type": "stream",
          "name": "stdout",
          "text": [
            "/content/mecab-ko-dic-2.1.1-20180720\n"
          ]
        }
      ]
    },
    {
      "cell_type": "code",
      "metadata": {
        "id": "2qctYHuptceF",
        "outputId": "88717c03-268a-4462-aaef-a60a683afc3e",
        "colab": {
          "base_uri": "https://localhost:8080/"
        }
      },
      "source": [
        "ls"
      ],
      "execution_count": 21,
      "outputs": [
        {
          "output_type": "stream",
          "name": "stdout",
          "text": [
            "aclocal.m4      EF.csv       MAJ.csv      NorthKorea.csv     \u001b[0m\u001b[01;34mtools\u001b[0m/\n",
            "AUTHORS         EP.csv       Makefile     NP.csv             unk.def\n",
            "\u001b[01;32mautogen.sh\u001b[0m*     ETM.csv      Makefile.am  NR.csv             unk.dic\n",
            "ChangeLog       ETN.csv      Makefile.in  Person-actor.csv   \u001b[01;34muser-dic\u001b[0m/\n",
            "char.bin        feature.def  matrix.bin   Person.csv         VA.csv\n",
            "char.def        Foreign.csv  matrix.def   Place-address.csv  VCN.csv\n",
            "\u001b[01;32mclean\u001b[0m*          Group.csv    \u001b[01;32mmissing\u001b[0m*     Place.csv          VCP.csv\n",
            "CoinedWord.csv  Hanja.csv    MM.csv       Place-station.csv  VV.csv\n",
            "config.log      IC.csv       model.bin    pos-id.def         VX.csv\n",
            "\u001b[01;32mconfig.status\u001b[0m*  Inflect.csv  model.def    Preanalysis.csv    Wikipedia.csv\n",
            "\u001b[01;32mconfigure\u001b[0m*      INSTALL      NEWS         README             XPN.csv\n",
            "configure.ac    \u001b[01;32minstall-sh\u001b[0m*  NNBC.csv     rewrite.def        XR.csv\n",
            "COPYING         J.csv        NNB.csv      right-id.def       XSA.csv\n",
            "dicrc           left-id.def  NNG.csv      Symbol.csv         XSN.csv\n",
            "EC.csv          MAG.csv      NNP.csv      sys.dic            XSV.csv\n"
          ]
        }
      ]
    },
    {
      "cell_type": "code",
      "metadata": {
        "id": "EfzG_lFgtkTZ",
        "outputId": "25611267-5b2f-4c6a-8611-8e0ee66fe988",
        "colab": {
          "base_uri": "https://localhost:8080/"
        }
      },
      "source": [
        "!ls user-dic/"
      ],
      "execution_count": 23,
      "outputs": [
        {
          "output_type": "stream",
          "name": "stdout",
          "text": [
            "nnp.csv  person.csv  place.csv\tREADME.md\n"
          ]
        }
      ]
    },
    {
      "cell_type": "code",
      "metadata": {
        "id": "ppyMEhT6t4Kc",
        "colab": {
          "base_uri": "https://localhost:8080/"
        },
        "outputId": "c7ed16c6-14a8-449c-f7c7-a41d2c3d87f1"
      },
      "source": [
        "# 사용자 사전에 미리 등록되어있는 고유명사\n",
        "!cat user-dic/nnp.csv"
      ],
      "execution_count": 24,
      "outputs": [
        {
          "output_type": "stream",
          "name": "stdout",
          "text": [
            "대우,,,,NNP,*,F,대우,*,*,*,*,*\n",
            "구글,,,,NNP,*,T,구글,*,*,*,*,*\n"
          ]
        }
      ]
    },
    {
      "cell_type": "markdown",
      "metadata": {
        "id": "z7WIjKr3TRAT"
      },
      "source": [
        "**1.Colab 안에서 직접 단어 추가하기**"
      ]
    },
    {
      "cell_type": "code",
      "metadata": {
        "id": "w2YpH93It0tM",
        "colab": {
          "base_uri": "https://localhost:8080/"
        },
        "outputId": "b9a3b6ab-206c-4226-82c0-1e39a2c85d0b"
      },
      "source": [
        "# 사전에 등록할 단어 추가\n",
        "!echo \"Mecab-ko-dic,,,,NNP,*,T,Mecab-ko-dic,*,*,*,*,*\" >> user-dic/nnp.csv\n",
        "!cat user-dic/nnp.csv"
      ],
      "execution_count": 25,
      "outputs": [
        {
          "output_type": "stream",
          "name": "stdout",
          "text": [
            "대우,,,,NNP,*,F,대우,*,*,*,*,*\n",
            "구글,,,,NNP,*,T,구글,*,*,*,*,*\n",
            "Mecab-ko-dic,,,,NNP,*,T,Mecab-ko-dic,*,*,*,*,*\n"
          ]
        }
      ]
    },
    {
      "cell_type": "code",
      "source": [
        "#mv user-dic/nnp.csv /content/gdrive/'My Drive'/'Colab Notebooks'/"
      ],
      "metadata": {
        "id": "XaCHfiFOIJ-B"
      },
      "execution_count": null,
      "outputs": []
    },
    {
      "cell_type": "markdown",
      "metadata": {
        "id": "YDn7FH57TWED"
      },
      "source": [
        "**2.텍스트 파일로 로컬에서 수정 후 추가하기**"
      ]
    },
    {
      "cell_type": "code",
      "metadata": {
        "id": "mGEdvXKSTa7A"
      },
      "source": [
        "# nnp.csv 파일 이동\n",
        "!mv /content/mecab-ko-dic-2.1.1-20180720/user-dic/nnp.csv /content/gdrive/'My Drive'/'aivle_NLP'/DAY1\n",
        "!mv /content/mecab-ko-dic-2.1.1-20180720/user-dic/nng.csv /content/gdrive/'My Drive'/'aivle_NLP'/DAY1"
      ],
      "execution_count": 34,
      "outputs": []
    },
    {
      "cell_type": "markdown",
      "source": [
        "**로컬에서 nnp.csv 파일에 단어를 추가한 후에 구글드라이브에 업로드**"
      ],
      "metadata": {
        "id": "qIwdulzPWLSb"
      }
    },
    {
      "cell_type": "code",
      "metadata": {
        "id": "EVYFUfi1V7m0",
        "colab": {
          "base_uri": "https://localhost:8080/"
        },
        "outputId": "202e604c-6de2-4929-cd44-15b3ca8a1b36"
      },
      "source": [
        "# 로컬에서 파일 수정 후 재 업로드\n",
        "#!cat /content/gdrive/'My Drive'/'Colab Notebooks'/nng.csv\n",
        "#!cat /content/gdrive/'My Drive'/'Colab Notebooks'/nnp.csv\n",
        "!cat /content/gdrive/'My Drive'/aivle_NLP/DAY1/nng.csv\n",
        "!cat /content/gdrive/'My Drive'/aivle_NLP/DAY1/nnp.csv"
      ],
      "execution_count": 79,
      "outputs": [
        {
          "output_type": "stream",
          "name": "stdout",
          "text": [
            "대우,,,,NNG,*,F,대우,*,*,*,*,*\n",
            "구글,,,,NNG,*,T,구글,*,*,*,*,*\n",
            "Mecab-ko-dic,,,,NNP,*,T,Mecab-ko-dic,*,*,*,*,*\n",
            "롱코비드,,,,NNG,*,F,롱코비드,*,*,*,*,*\n",
            "엔데믹,,,,NNG,*,T,엔데믹,*,*,*,*,*\n",
            "팬데믹,,,,NNG,*,T,팬데믹,*,*,*,*,*대우,,,,NNP,*,F,대우,*,*,*,*,*\n",
            "구글,,,,NNP,*,T,구글,*,*,*,*,*\n",
            "Mecab-ko-dic,,,,NNP,*,T,Mecab-ko-dic,*,*,*,*,*\n",
            "예일공중보건대학원,,,,NNP,*,T,예일공중보건대학원,*,*,*,*,*\n",
            "프리미어리그,,,,NNP,*,F,프리미어리그,*,*,*,*,*"
          ]
        }
      ]
    },
    {
      "cell_type": "code",
      "source": [
        "sentence = '토트넘이 리그 4위로 21-22 프리미어리그 시즌을 마무리해서 UCL에 진출했다.'\n",
        "print (tagger.parse(sentence))"
      ],
      "metadata": {
        "colab": {
          "base_uri": "https://localhost:8080/"
        },
        "id": "GwZVQdM4KQSk",
        "outputId": "ab06d19e-4e32-4fb6-897f-fdbf27cf3ce2"
      },
      "execution_count": 80,
      "outputs": [
        {
          "output_type": "stream",
          "name": "stdout",
          "text": [
            "토트넘\tNNP,*,T,토트넘,*,*,*,*\n",
            "이\tJKS,*,F,이,*,*,*,*\n",
            "리그\tNNG,*,F,리그,*,*,*,*\n",
            "4\tSN,*,*,*,*,*,*,*\n",
            "위\tNNBC,*,F,위,*,*,*,*\n",
            "로\tJKB,*,F,로,*,*,*,*\n",
            "21\tSN,*,*,*,*,*,*,*\n",
            "-\tSY,*,*,*,*,*,*,*\n",
            "22\tSN,*,*,*,*,*,*,*\n",
            "프리미어\tNNP,인명,F,프리미어,*,*,*,*\n",
            "리그\tNNG,*,F,리그,*,*,*,*\n",
            "시즌\tNNG,*,T,시즌,*,*,*,*\n",
            "을\tJKO,*,T,을,*,*,*,*\n",
            "마무리\tNNG,행위,F,마무리,*,*,*,*\n",
            "해서\tXSV+EC,*,F,해서,Inflect,XSV,EC,하/XSV/*+아서/EC/*\n",
            "UCL\tSL,*,*,*,*,*,*,*\n",
            "에\tJKB,*,F,에,*,*,*,*\n",
            "진출\tNNG,행위,T,진출,*,*,*,*\n",
            "했\tXSV+EP,*,T,했,Inflect,XSV,EP,하/XSV/*+았/EP/*\n",
            "다\tEF,*,F,다,*,*,*,*\n",
            ".\tSF,*,*,*,*,*,*,*\n",
            "EOS\n",
            "\n"
          ]
        }
      ]
    },
    {
      "cell_type": "code",
      "metadata": {
        "id": "ohwpdHnPVfYG",
        "outputId": "d7a55ddf-aa3c-4d32-c2b2-dd253597c148",
        "colab": {
          "base_uri": "https://localhost:8080/"
        }
      },
      "source": [
        "# 업로드된 수정 파일 이동\n",
        "!mv /content/gdrive/'My Drive'/aivle_NLP/DAY1/nnp.csv /content/mecab-ko-dic-2.1.1-20180720/user-dic/\n",
        "!mv /content/gdrive/'My Drive'/aivle_NLP/DAY1/nng.csv /content/mecab-ko-dic-2.1.1-20180720/user-dic/\n",
        "\n",
        "!ls user-dic/"
      ],
      "execution_count": 81,
      "outputs": [
        {
          "output_type": "stream",
          "name": "stdout",
          "text": [
            "nng.csv  nnp.csv  person.csv  place.csv  README.md\n"
          ]
        }
      ]
    },
    {
      "cell_type": "code",
      "source": [
        "!cat /content/mecab-ko-dic-2.1.1-20180720/user-dic/nnp.csv\n",
        "!cat /content/mecab-ko-dic-2.1.1-20180720/user-dic/nng.csv"
      ],
      "metadata": {
        "id": "k_p7vY-LhxTc",
        "outputId": "0eb37e18-a957-4be1-e3d6-e4a81851eba2",
        "colab": {
          "base_uri": "https://localhost:8080/"
        }
      },
      "execution_count": 82,
      "outputs": [
        {
          "output_type": "stream",
          "name": "stdout",
          "text": [
            "대우,,,,NNP,*,F,대우,*,*,*,*,*\n",
            "구글,,,,NNP,*,T,구글,*,*,*,*,*\n",
            "Mecab-ko-dic,,,,NNP,*,T,Mecab-ko-dic,*,*,*,*,*\n",
            "예일공중보건대학원,,,,NNP,*,T,예일공중보건대학원,*,*,*,*,*\n",
            "프리미어리그,,,,NNP,*,F,프리미어리그,*,*,*,*,*대우,,,,NNG,*,F,대우,*,*,*,*,*\n",
            "구글,,,,NNG,*,T,구글,*,*,*,*,*\n",
            "Mecab-ko-dic,,,,NNP,*,T,Mecab-ko-dic,*,*,*,*,*\n",
            "롱코비드,,,,NNG,*,F,롱코비드,*,*,*,*,*\n",
            "엔데믹,,,,NNG,*,T,엔데믹,*,*,*,*,*\n",
            "팬데믹,,,,NNG,*,T,팬데믹,*,*,*,*,*"
          ]
        }
      ]
    },
    {
      "cell_type": "code",
      "metadata": {
        "id": "5uco7qNpukGk",
        "outputId": "464a9e7d-64c5-422e-ddf4-063bd0294b7b",
        "colab": {
          "base_uri": "https://localhost:8080/"
        }
      },
      "source": [
        "# 사용자사전 업데이트\n",
        "!bash ./tools/add-userdic.sh"
      ],
      "execution_count": 83,
      "outputs": [
        {
          "output_type": "stream",
          "name": "stdout",
          "text": [
            "generating userdic...\n",
            "nng.csv\n",
            "/content/mecab-ko-dic-2.1.1-20180720/tools/../model.def is not a binary model. reopen it as text mode...\n",
            "reading /content/mecab-ko-dic-2.1.1-20180720/tools/../user-dic/nng.csv ... \n",
            "done!\n",
            "nnp.csv\n",
            "/content/mecab-ko-dic-2.1.1-20180720/tools/../model.def is not a binary model. reopen it as text mode...\n",
            "reading /content/mecab-ko-dic-2.1.1-20180720/tools/../user-dic/nnp.csv ... \n",
            "done!\n",
            "person.csv\n",
            "/content/mecab-ko-dic-2.1.1-20180720/tools/../model.def is not a binary model. reopen it as text mode...\n",
            "reading /content/mecab-ko-dic-2.1.1-20180720/tools/../user-dic/person.csv ... \n",
            "done!\n",
            "place.csv\n",
            "/content/mecab-ko-dic-2.1.1-20180720/tools/../model.def is not a binary model. reopen it as text mode...\n",
            "reading /content/mecab-ko-dic-2.1.1-20180720/tools/../user-dic/place.csv ... \n",
            "done!\n",
            "test -z \"model.bin matrix.bin char.bin sys.dic unk.dic\" || rm -f model.bin matrix.bin char.bin sys.dic unk.dic\n",
            "/usr/local/libexec/mecab/mecab-dict-index -d . -o . -f UTF-8 -t UTF-8\n",
            "reading ./unk.def ... 13\n",
            "emitting double-array: 100% |###########################################| \n",
            "reading ./EF.csv ... 1820\n",
            "reading ./Inflect.csv ... 44820\n",
            "reading ./J.csv ... 416\n",
            "reading ./XSV.csv ... 23\n",
            "reading ./ETM.csv ... 133\n",
            "reading ./Person-actor.csv ... 99230\n",
            "reading ./user-person.csv ... 1\n",
            "reading ./Wikipedia.csv ... 36762\n",
            "reading ./Person.csv ... 196459\n",
            "reading ./NR.csv ... 482\n",
            "reading ./Place.csv ... 30303\n",
            "reading ./ETN.csv ... 14\n",
            "reading ./VCN.csv ... 7\n",
            "reading ./XPN.csv ... 83\n",
            "reading ./VX.csv ... 125\n",
            "reading ./XR.csv ... 3637\n",
            "reading ./MAG.csv ... 14242\n",
            "reading ./MM.csv ... 453\n",
            "reading ./VCP.csv ... 9\n",
            "reading ./EC.csv ... 2547\n",
            "reading ./user-nnp.csv ... 5\n",
            "reading ./XSN.csv ... 124\n",
            "reading ./NNP.csv ... 2371\n",
            "reading ./user-nng.csv ... 6\n",
            "reading ./NP.csv ... 342\n",
            "reading ./Foreign.csv ... 11690\n",
            "reading ./Preanalysis.csv ... 5\n",
            "reading ./Group.csv ... 3176\n",
            "reading ./VV.csv ... 7331\n",
            "reading ./Place-station.csv ... 1145\n",
            "reading ./NNG.csv ... 208524\n",
            "reading ./NorthKorea.csv ... 3\n",
            "reading ./MAJ.csv ... 240\n",
            "reading ./IC.csv ... 1305\n",
            "reading ./NNB.csv ... 140\n",
            "reading ./XSA.csv ... 19\n",
            "reading ./user-place.csv ... 2\n",
            "reading ./CoinedWord.csv ... 148\n",
            "reading ./Hanja.csv ... 125750\n",
            "reading ./NNBC.csv ... 677\n",
            "reading ./Symbol.csv ... 16\n",
            "reading ./VA.csv ... 2360\n",
            "reading ./Place-address.csv ... 19301\n",
            "reading ./EP.csv ... 51\n",
            "emitting double-array: 100% |###########################################| \n",
            "reading ./matrix.def ... 3822x2693\n",
            "emitting matrix      : 100% |###########################################| \n",
            "\n",
            "done!\n",
            "echo To enable dictionary, rewrite /usr/local/etc/mecabrc as \\\"dicdir = /usr/local/lib/mecab/dic/mecab-ko-dic\\\"\n",
            "To enable dictionary, rewrite /usr/local/etc/mecabrc as \"dicdir = /usr/local/lib/mecab/dic/mecab-ko-dic\"\n"
          ]
        }
      ]
    },
    {
      "cell_type": "code",
      "metadata": {
        "id": "t4R7sqigu7YO",
        "outputId": "83ff9fe3-5460-4187-e787-3b164f91a045",
        "colab": {
          "base_uri": "https://localhost:8080/"
        }
      },
      "source": [
        "# 사전 리빌드\n",
        "!sudo make install\n"
      ],
      "execution_count": 84,
      "outputs": [
        {
          "output_type": "stream",
          "name": "stdout",
          "text": [
            "make[1]: Entering directory '/content/mecab-ko-dic-2.1.1-20180720'\n",
            "make[1]: Nothing to be done for 'install-exec-am'.\n",
            " /bin/mkdir -p '/usr/local/lib/mecab/dic/mecab-ko-dic'\n",
            " /usr/bin/install -c -m 644 model.bin matrix.bin char.bin sys.dic unk.dic left-id.def right-id.def rewrite.def pos-id.def dicrc '/usr/local/lib/mecab/dic/mecab-ko-dic'\n",
            "make[1]: Leaving directory '/content/mecab-ko-dic-2.1.1-20180720'\n"
          ]
        }
      ]
    },
    {
      "cell_type": "code",
      "source": [
        "tagger = MeCab.Tagger()\n",
        "# 사용자 사전 업데이트 확인\n",
        "sentence = '코로나 감염 뒤 4주 이상 후유증이 이어지는 현상을 롱코비드라고 부른다.'\n",
        "print (tagger.parse(sentence))"
      ],
      "metadata": {
        "colab": {
          "base_uri": "https://localhost:8080/"
        },
        "id": "xM-pqT38AT2V",
        "outputId": "ffc532c1-9cde-4089-819b-930adafd96c8"
      },
      "execution_count": 85,
      "outputs": [
        {
          "output_type": "stream",
          "name": "stdout",
          "text": [
            "코로나\tNNP,인명,F,코로나,*,*,*,*\n",
            "감염\tNNG,상태변화,T,감염,*,*,*,*\n",
            "뒤\tNNG,*,F,뒤,*,*,*,*\n",
            "4\tSN,*,*,*,*,*,*,*\n",
            "주\tNNBC,*,F,주,*,*,*,*\n",
            "이상\tNNG,*,T,이상,*,*,*,*\n",
            "후유증\tNNG,정적사태,T,후유증,Compound,*,*,후유/NNG/*+증/NNG/*\n",
            "이\tJKS,*,F,이,*,*,*,*\n",
            "이어지\tVV,*,F,이어지,*,*,*,*\n",
            "는\tETM,*,T,는,*,*,*,*\n",
            "현상\tNNG,*,T,현상,*,*,*,*\n",
            "을\tJKO,*,T,을,*,*,*,*\n",
            "롱코비드\tNNG,*,F,롱코비드,*,*,*,*,*\n",
            "라고\tVCP+EC,*,F,라고,Inflect,VCP,EC,이/VCP/*+라고/EC/*\n",
            "부른다\tVV+EF,*,F,부른다,Inflect,VV,EF,부르/VV/*+ᆫ다/EF/*\n",
            ".\tSF,*,*,*,*,*,*,*\n",
            "EOS\n",
            "\n"
          ]
        }
      ]
    },
    {
      "cell_type": "code",
      "metadata": {
        "id": "yrGUDXX9uwiQ",
        "colab": {
          "base_uri": "https://localhost:8080/"
        },
        "outputId": "161b95d7-a893-447c-c70f-37a564f6cf86"
      },
      "source": [
        "sentence = '예일공중보건대학원 로버트슨 교수는 이미 코로나19가 팬데믹에서 엔데믹으로 전환 중이라고 말했다.'\n",
        "print (tagger.parse(sentence))"
      ],
      "execution_count": 86,
      "outputs": [
        {
          "output_type": "stream",
          "name": "stdout",
          "text": [
            "예일공중보건대학원\tNNP,*,T,예일공중보건대학원,*,*,*,*,*\n",
            "로버트슨\tNNP,인명,T,로버트슨,*,*,*,*\n",
            "교수\tNNG,*,F,교수,*,*,*,*\n",
            "는\tJX,*,T,는,*,*,*,*\n",
            "이미\tMAG,성분부사|시간부사,F,이미,*,*,*,*\n",
            "코로나\tNNP,인명,F,코로나,*,*,*,*\n",
            "19\tSN,*,*,*,*,*,*,*\n",
            "가\tJKS,*,F,가,*,*,*,*\n",
            "팬데믹\tNNG,*,T,팬데믹,*,*,*,*,*\n",
            "에서\tJKB,*,F,에서,*,*,*,*\n",
            "엔데믹\tNNG,*,T,엔데믹,*,*,*,*,*\n",
            "으로\tJKB,*,F,으로,*,*,*,*\n",
            "전환\tNNG,행위,T,전환,*,*,*,*\n",
            "중\tNNB,*,T,중,*,*,*,*\n",
            "이\tVCP,*,F,이,*,*,*,*\n",
            "라고\tEC,*,F,라고,*,*,*,*\n",
            "말\tNNG,*,T,말,*,*,*,*\n",
            "했\tXSV+EP,*,T,했,Inflect,XSV,EP,하/XSV/*+았/EP/*\n",
            "다\tEF,*,F,다,*,*,*,*\n",
            ".\tSF,*,*,*,*,*,*,*\n",
            "EOS\n",
            "\n"
          ]
        }
      ]
    },
    {
      "cell_type": "code",
      "source": [
        "sentence = '토트넘이 리그 4위로 21-22 프리미어리그 시즌을 마무리해서 UCL에 진출했다.'\n",
        "print (tagger.parse(sentence))"
      ],
      "metadata": {
        "id": "Y7c2ymn75qsi",
        "colab": {
          "base_uri": "https://localhost:8080/"
        },
        "outputId": "beb0fb5e-2e36-45bc-f1fd-27c7e81ab16b"
      },
      "execution_count": 87,
      "outputs": [
        {
          "output_type": "stream",
          "name": "stdout",
          "text": [
            "토트넘\tNNP,*,T,토트넘,*,*,*,*\n",
            "이\tJKS,*,F,이,*,*,*,*\n",
            "리그\tNNG,*,F,리그,*,*,*,*\n",
            "4\tSN,*,*,*,*,*,*,*\n",
            "위\tNNBC,*,F,위,*,*,*,*\n",
            "로\tJKB,*,F,로,*,*,*,*\n",
            "21\tSN,*,*,*,*,*,*,*\n",
            "-\tSY,*,*,*,*,*,*,*\n",
            "22\tSN,*,*,*,*,*,*,*\n",
            "프리미어리그\tNNP,*,F,프리미어리그,*,*,*,*,*\n",
            "시즌\tNNG,*,T,시즌,*,*,*,*\n",
            "을\tJKO,*,T,을,*,*,*,*\n",
            "마무리\tNNG,행위,F,마무리,*,*,*,*\n",
            "해서\tXSV+EC,*,F,해서,Inflect,XSV,EC,하/XSV/*+아서/EC/*\n",
            "UCL\tSL,*,*,*,*,*,*,*\n",
            "에\tJKB,*,F,에,*,*,*,*\n",
            "진출\tNNG,행위,T,진출,*,*,*,*\n",
            "했\tXSV+EP,*,T,했,Inflect,XSV,EP,하/XSV/*+았/EP/*\n",
            "다\tEF,*,F,다,*,*,*,*\n",
            ".\tSF,*,*,*,*,*,*,*\n",
            "EOS\n",
            "\n"
          ]
        }
      ]
    },
    {
      "cell_type": "code",
      "source": [],
      "metadata": {
        "id": "WQDzPubFfIbO"
      },
      "execution_count": 48,
      "outputs": []
    }
  ]
}